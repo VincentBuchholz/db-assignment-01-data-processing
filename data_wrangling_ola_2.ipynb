{
 "cells": [
  {
   "cell_type": "code",
   "execution_count": 1,
   "id": "3da74334-3b0c-4053-a3f0-b50b910c4bfa",
   "metadata": {},
   "outputs": [],
   "source": [
    "import pandas as pd\n",
    "import bson"
   ]
  },
  {
   "cell_type": "code",
   "execution_count": 41,
   "id": "8cff3f08-08e1-4f18-9acf-e7ba2ebf1dc2",
   "metadata": {},
   "outputs": [],
   "source": [
    "countries_df = pd.read_csv('countries.csv',sep=',')"
   ]
  },
  {
   "cell_type": "code",
   "execution_count": 27,
   "id": "957fedde-a1f1-489a-bf0c-c25450735901",
   "metadata": {},
   "outputs": [
    {
     "data": {
      "text/html": [
       "<div>\n",
       "<style scoped>\n",
       "    .dataframe tbody tr th:only-of-type {\n",
       "        vertical-align: middle;\n",
       "    }\n",
       "\n",
       "    .dataframe tbody tr th {\n",
       "        vertical-align: top;\n",
       "    }\n",
       "\n",
       "    .dataframe thead th {\n",
       "        text-align: right;\n",
       "    }\n",
       "</style>\n",
       "<table border=\"1\" class=\"dataframe\">\n",
       "  <thead>\n",
       "    <tr style=\"text-align: right;\">\n",
       "      <th></th>\n",
       "      <th>id</th>\n",
       "      <th>country_name</th>\n",
       "      <th>location</th>\n",
       "    </tr>\n",
       "  </thead>\n",
       "  <tbody>\n",
       "    <tr>\n",
       "      <th>0</th>\n",
       "      <td>267</td>\n",
       "      <td>Denmark</td>\n",
       "      <td>(56.26392, 9.501785)</td>\n",
       "    </tr>\n",
       "    <tr>\n",
       "      <th>1</th>\n",
       "      <td>266</td>\n",
       "      <td>Italy</td>\n",
       "      <td>(41.87194, 12.56738)</td>\n",
       "    </tr>\n",
       "    <tr>\n",
       "      <th>2</th>\n",
       "      <td>244</td>\n",
       "      <td>Taiwan</td>\n",
       "      <td>(23.69781, 120.960515)</td>\n",
       "    </tr>\n",
       "    <tr>\n",
       "      <th>3</th>\n",
       "      <td>279</td>\n",
       "      <td>USA</td>\n",
       "      <td>(37.09024, -95.712891)</td>\n",
       "    </tr>\n",
       "    <tr>\n",
       "      <th>4</th>\n",
       "      <td>88</td>\n",
       "      <td>France</td>\n",
       "      <td>(46.227638, 2.213749)</td>\n",
       "    </tr>\n",
       "  </tbody>\n",
       "</table>\n",
       "</div>"
      ],
      "text/plain": [
       "    id country_name                location\n",
       "0  267      Denmark    (56.26392, 9.501785)\n",
       "1  266        Italy    (41.87194, 12.56738)\n",
       "2  244       Taiwan  (23.69781, 120.960515)\n",
       "3  279          USA  (37.09024, -95.712891)\n",
       "4   88       France   (46.227638, 2.213749)"
      ]
     },
     "execution_count": 27,
     "metadata": {},
     "output_type": "execute_result"
    }
   ],
   "source": [
    "countries_df.head()"
   ]
  },
  {
   "cell_type": "code",
   "execution_count": 42,
   "id": "3bd685ad-5a6e-4167-b165-c487a9f81ff0",
   "metadata": {},
   "outputs": [
    {
     "name": "stderr",
     "output_type": "stream",
     "text": [
      "/var/folders/jj/6mz63v6n0b5f1hlgmlnwgd7r0000gn/T/ipykernel_73775/3097098386.py:6: SettingWithCopyWarning: \n",
      "A value is trying to be set on a copy of a slice from a DataFrame\n",
      "\n",
      "See the caveats in the documentation: https://pandas.pydata.org/pandas-docs/stable/user_guide/indexing.html#returning-a-view-versus-a-copy\n",
      "  countries_df['id'][index] = oid\n"
     ]
    }
   ],
   "source": [
    "country_id_dict = {}\n",
    "\n",
    "for index in countries_df.index:\n",
    "    oid = str(f\"ObjectId('{bson.objectid.ObjectId()}')\")\n",
    "    country_id_dict[countries_df['id'][index]] = oid\n",
    "    countries_df['id'][index] = oid\n",
    "\n",
    "countries_df = countries_df.rename({'id':'_id'}, axis='columns')"
   ]
  },
  {
   "cell_type": "code",
   "execution_count": null,
   "id": "cb552ca8-bfa8-4ca4-90d0-19b550e36d2d",
   "metadata": {},
   "outputs": [],
   "source": []
  },
  {
   "cell_type": "code",
   "execution_count": 43,
   "id": "af5e46ec-7ded-4e11-8794-63052de3a099",
   "metadata": {},
   "outputs": [
    {
     "data": {
      "text/html": [
       "<div>\n",
       "<style scoped>\n",
       "    .dataframe tbody tr th:only-of-type {\n",
       "        vertical-align: middle;\n",
       "    }\n",
       "\n",
       "    .dataframe tbody tr th {\n",
       "        vertical-align: top;\n",
       "    }\n",
       "\n",
       "    .dataframe thead th {\n",
       "        text-align: right;\n",
       "    }\n",
       "</style>\n",
       "<table border=\"1\" class=\"dataframe\">\n",
       "  <thead>\n",
       "    <tr style=\"text-align: right;\">\n",
       "      <th></th>\n",
       "      <th>_id</th>\n",
       "      <th>country_name</th>\n",
       "      <th>location</th>\n",
       "    </tr>\n",
       "  </thead>\n",
       "  <tbody>\n",
       "    <tr>\n",
       "      <th>0</th>\n",
       "      <td>ObjectId('65ed77091c693c20303a7edd')</td>\n",
       "      <td>Denmark</td>\n",
       "      <td>(56.26392, 9.501785)</td>\n",
       "    </tr>\n",
       "    <tr>\n",
       "      <th>1</th>\n",
       "      <td>ObjectId('65ed77091c693c20303a7ede')</td>\n",
       "      <td>Italy</td>\n",
       "      <td>(41.87194, 12.56738)</td>\n",
       "    </tr>\n",
       "    <tr>\n",
       "      <th>2</th>\n",
       "      <td>ObjectId('65ed77091c693c20303a7edf')</td>\n",
       "      <td>Taiwan</td>\n",
       "      <td>(23.69781, 120.960515)</td>\n",
       "    </tr>\n",
       "    <tr>\n",
       "      <th>3</th>\n",
       "      <td>ObjectId('65ed77091c693c20303a7ee0')</td>\n",
       "      <td>USA</td>\n",
       "      <td>(37.09024, -95.712891)</td>\n",
       "    </tr>\n",
       "    <tr>\n",
       "      <th>4</th>\n",
       "      <td>ObjectId('65ed77091c693c20303a7ee1')</td>\n",
       "      <td>France</td>\n",
       "      <td>(46.227638, 2.213749)</td>\n",
       "    </tr>\n",
       "  </tbody>\n",
       "</table>\n",
       "</div>"
      ],
      "text/plain": [
       "                                    _id country_name                location\n",
       "0  ObjectId('65ed77091c693c20303a7edd')      Denmark    (56.26392, 9.501785)\n",
       "1  ObjectId('65ed77091c693c20303a7ede')        Italy    (41.87194, 12.56738)\n",
       "2  ObjectId('65ed77091c693c20303a7edf')       Taiwan  (23.69781, 120.960515)\n",
       "3  ObjectId('65ed77091c693c20303a7ee0')          USA  (37.09024, -95.712891)\n",
       "4  ObjectId('65ed77091c693c20303a7ee1')       France   (46.227638, 2.213749)"
      ]
     },
     "execution_count": 43,
     "metadata": {},
     "output_type": "execute_result"
    }
   ],
   "source": [
    "countries_df.head()"
   ]
  },
  {
   "cell_type": "code",
   "execution_count": 87,
   "id": "4299d7fb-93e2-4cd0-9512-c003cb728c56",
   "metadata": {},
   "outputs": [],
   "source": [
    "cities_df = pd.read_csv('cities.csv',sep=',')"
   ]
  },
  {
   "cell_type": "code",
   "execution_count": 67,
   "id": "dac37d37-f340-491e-8aea-f318ac0fe31c",
   "metadata": {},
   "outputs": [
    {
     "data": {
      "text/html": [
       "<div>\n",
       "<style scoped>\n",
       "    .dataframe tbody tr th:only-of-type {\n",
       "        vertical-align: middle;\n",
       "    }\n",
       "\n",
       "    .dataframe tbody tr th {\n",
       "        vertical-align: top;\n",
       "    }\n",
       "\n",
       "    .dataframe thead th {\n",
       "        text-align: right;\n",
       "    }\n",
       "</style>\n",
       "<table border=\"1\" class=\"dataframe\">\n",
       "  <thead>\n",
       "    <tr style=\"text-align: right;\">\n",
       "      <th></th>\n",
       "      <th>id</th>\n",
       "      <th>city_name</th>\n",
       "      <th>country_id</th>\n",
       "      <th>city_location</th>\n",
       "      <th>average_annual_temperature</th>\n",
       "      <th>c40</th>\n",
       "      <th>land_area</th>\n",
       "      <th>gcom</th>\n",
       "    </tr>\n",
       "  </thead>\n",
       "  <tbody>\n",
       "    <tr>\n",
       "      <th>0</th>\n",
       "      <td>58796</td>\n",
       "      <td>Odder Kommune</td>\n",
       "      <td>ObjectId('65ed77091c693c20303a7edd')</td>\n",
       "      <td>(55.975718, 10.149958)</td>\n",
       "      <td>NaN</td>\n",
       "      <td>False</td>\n",
       "      <td>NaN</td>\n",
       "      <td>False</td>\n",
       "    </tr>\n",
       "    <tr>\n",
       "      <th>1</th>\n",
       "      <td>36158</td>\n",
       "      <td>Comune di Napoli</td>\n",
       "      <td>ObjectId('65ed77091c693c20303a7ede')</td>\n",
       "      <td>(40.8419943, 14.2513831)</td>\n",
       "      <td>NaN</td>\n",
       "      <td>False</td>\n",
       "      <td>NaN</td>\n",
       "      <td>False</td>\n",
       "    </tr>\n",
       "    <tr>\n",
       "      <th>2</th>\n",
       "      <td>62855</td>\n",
       "      <td>Egedal Municipality</td>\n",
       "      <td>ObjectId('65ed77091c693c20303a7edd')</td>\n",
       "      <td>(55.795045, 12.238733)</td>\n",
       "      <td>8.0</td>\n",
       "      <td>False</td>\n",
       "      <td>126.0</td>\n",
       "      <td>False</td>\n",
       "    </tr>\n",
       "    <tr>\n",
       "      <th>3</th>\n",
       "      <td>61753</td>\n",
       "      <td>Yilan County</td>\n",
       "      <td>ObjectId('65ed77091c693c20303a7edf')</td>\n",
       "      <td>(24.702107, 121.73775)</td>\n",
       "      <td>22.3</td>\n",
       "      <td>False</td>\n",
       "      <td>2143.0</td>\n",
       "      <td>False</td>\n",
       "    </tr>\n",
       "    <tr>\n",
       "      <th>4</th>\n",
       "      <td>61790</td>\n",
       "      <td>City of Emeryville, CA</td>\n",
       "      <td>ObjectId('65ed77091c693c20303a7ee0')</td>\n",
       "      <td>(37.831316, -122.285247)</td>\n",
       "      <td>15.1</td>\n",
       "      <td>False</td>\n",
       "      <td>5.2</td>\n",
       "      <td>False</td>\n",
       "    </tr>\n",
       "  </tbody>\n",
       "</table>\n",
       "</div>"
      ],
      "text/plain": [
       "      id               city_name                            country_id  \\\n",
       "0  58796           Odder Kommune  ObjectId('65ed77091c693c20303a7edd')   \n",
       "1  36158        Comune di Napoli  ObjectId('65ed77091c693c20303a7ede')   \n",
       "2  62855     Egedal Municipality  ObjectId('65ed77091c693c20303a7edd')   \n",
       "3  61753            Yilan County  ObjectId('65ed77091c693c20303a7edf')   \n",
       "4  61790  City of Emeryville, CA  ObjectId('65ed77091c693c20303a7ee0')   \n",
       "\n",
       "              city_location  average_annual_temperature    c40  land_area  \\\n",
       "0    (55.975718, 10.149958)                         NaN  False        NaN   \n",
       "1  (40.8419943, 14.2513831)                         NaN  False        NaN   \n",
       "2    (55.795045, 12.238733)                         8.0  False      126.0   \n",
       "3    (24.702107, 121.73775)                        22.3  False     2143.0   \n",
       "4  (37.831316, -122.285247)                        15.1  False        5.2   \n",
       "\n",
       "    gcom  \n",
       "0  False  \n",
       "1  False  \n",
       "2  False  \n",
       "3  False  \n",
       "4  False  "
      ]
     },
     "execution_count": 67,
     "metadata": {},
     "output_type": "execute_result"
    }
   ],
   "source": [
    "cities_df.head()"
   ]
  },
  {
   "cell_type": "code",
   "execution_count": 88,
   "id": "41dc3d9f-b75f-4e2d-848e-a81e0e6d5059",
   "metadata": {},
   "outputs": [
    {
     "name": "stderr",
     "output_type": "stream",
     "text": [
      "/var/folders/jj/6mz63v6n0b5f1hlgmlnwgd7r0000gn/T/ipykernel_73775/1859071649.py:3: SettingWithCopyWarning: \n",
      "A value is trying to be set on a copy of a slice from a DataFrame\n",
      "\n",
      "See the caveats in the documentation: https://pandas.pydata.org/pandas-docs/stable/user_guide/indexing.html#returning-a-view-versus-a-copy\n",
      "  cities_df[\"country_id\"][index] = country_id_dict[cities_df[\"country_id\"][index]]\n"
     ]
    }
   ],
   "source": [
    "for index in cities_df.index:\n",
    "    if(int(cities_df[\"country_id\"][index]) != 0):\n",
    "        cities_df[\"country_id\"][index] = country_id_dict[cities_df[\"country_id\"][index]]"
   ]
  },
  {
   "cell_type": "code",
   "execution_count": 181,
   "id": "7099305b-6e67-4707-876f-bcd4373129dd",
   "metadata": {},
   "outputs": [],
   "source": [
    "cities_json = json.loads(cities_df.to_json(orient='records'))"
   ]
  },
  {
   "cell_type": "code",
   "execution_count": 182,
   "id": "3f42c7fd-7818-4856-9d68-4d494b7c9c81",
   "metadata": {},
   "outputs": [],
   "source": [
    "emissions_json = json.loads(pd.read_csv('emission.csv',sep=',').to_json(orient='records'))\n",
    "target_json = json.loads(pd.read_csv('target.csv',sep=',').to_json(orient='records'))\n",
    "sectors_json = json.loads(pd.read_csv('sectors.csv',sep=',').to_json(orient='records'))\n",
    "status_json = json.loads(pd.read_csv('emission_status.csv',sep=',').to_json(orient='records'))\n",
    "pop_json = json.loads(pd.read_csv('pop.csv',sep=',').to_json(orient='records'))\n",
    "gdp_json = json.loads(pd.read_csv('gdp.csv',sep=',').to_json(orient='records'))"
   ]
  },
  {
   "cell_type": "code",
   "execution_count": 183,
   "id": "c13d4066-d75f-47d3-b6cb-3adcc794f9b5",
   "metadata": {},
   "outputs": [],
   "source": [
    "## adds sector field to target\n",
    "\n",
    "for target in target_json:\n",
    "    for sector in sectors_json:\n",
    "        if target[\"sector_id\"] == sector[\"id\"]:\n",
    "            target[\"sector\"] = sector[\"sector_name\"]\n",
    "    del target['sector_id']\n"
   ]
  },
  {
   "cell_type": "code",
   "execution_count": 184,
   "id": "ab9c7228-3b3d-4b52-abac-f8a6b7aca358",
   "metadata": {},
   "outputs": [],
   "source": [
    "## Adds status to emissiom\n",
    "\n",
    "for emission in emissions_json:\n",
    "    for status in status_json:\n",
    "        if emission[\"emission_status_id\"] == status[\"id\"]:\n",
    "            emission[\"status\"] = status[\"status_name\"]\n",
    "    del emission['emission_status_id']"
   ]
  },
  {
   "cell_type": "code",
   "execution_count": 185,
   "id": "8f50ee91-d205-464e-a270-61d1e6c3ade8",
   "metadata": {},
   "outputs": [],
   "source": [
    "for city in cities_json:\n",
    "    # adds targets to city\n",
    "    city[\"emissionTargets\"] = []\n",
    "    \n",
    "    for target in target_json:\n",
    "        if(target[\"city_id\"] == city[\"id\"]):\n",
    "            toAdd = target.copy()\n",
    "            del toAdd[\"city_id\"]\n",
    "            del toAdd[\"id\"]\n",
    "            city[\"emissionTargets\"].append(toAdd)\n",
    "            "
   ]
  },
  {
   "cell_type": "code",
   "execution_count": 186,
   "id": "fa0ec730-59e1-4bf1-915e-f0f9c90d226e",
   "metadata": {},
   "outputs": [],
   "source": [
    "for city in cities_json:\n",
    "    # adds targets to city\n",
    "    city[\"emissions\"] = []\n",
    "    \n",
    "    for em in emissions_json:\n",
    "        if(em[\"city_id\"] == city[\"id\"]):\n",
    "            toAdd = em.copy()\n",
    "            del toAdd[\"city_id\"]\n",
    "            del toAdd[\"id\"]\n",
    "            city[\"emissions\"].append(toAdd)\n",
    "            "
   ]
  },
  {
   "cell_type": "code",
   "execution_count": 187,
   "id": "bc95e83c-8ca6-4aec-9556-5ec1ae8e3432",
   "metadata": {},
   "outputs": [],
   "source": [
    "for city in cities_json:\n",
    "    # adds targets to city\n",
    "    city[\"gdps\"] = []\n",
    "    \n",
    "    for gdp in gdp_json:\n",
    "        if(gdp[\"city_id\"] == city[\"id\"]):\n",
    "            toAdd = gdp.copy()\n",
    "            del toAdd[\"city_id\"]\n",
    "            del toAdd[\"id\"]\n",
    "            city[\"gdps\"].append(toAdd)"
   ]
  },
  {
   "cell_type": "code",
   "execution_count": 188,
   "id": "a9ba9ffa-1c1b-4968-b1a1-5a0f5a9fa3eb",
   "metadata": {},
   "outputs": [],
   "source": [
    "for city in cities_json:\n",
    "    # adds targets to city\n",
    "    city[\"populations\"] = []\n",
    "    \n",
    "    for pop in pop_json:\n",
    "        if(pop[\"city_id\"] == city[\"id\"]):\n",
    "            toAdd = pop.copy()\n",
    "            del toAdd[\"city_id\"]\n",
    "            del toAdd[\"id\"]\n",
    "            city[\"populations\"].append(toAdd)"
   ]
  },
  {
   "cell_type": "code",
   "execution_count": 189,
   "id": "2bbad2df-6183-4d3c-a907-77ca06d91d06",
   "metadata": {},
   "outputs": [
    {
     "data": {
      "text/plain": [
       "{'id': 1850,\n",
       " 'city_name': 'Birmingham City Council',\n",
       " 'country_id': \"ObjectId('65ed77091c693c20303a7ee4')\",\n",
       " 'city_location': '(52.480174, -1.902907)',\n",
       " 'average_annual_temperature': 9.2,\n",
       " 'c40': False,\n",
       " 'land_area': 267.8,\n",
       " 'gcom': True,\n",
       " 'emissionTargets': [{'Baseline_year': 1990.0,\n",
       "   'target_year': 2027,\n",
       "   'baseline_emissions': 6874000.0,\n",
       "   'percentage_reduction_target': 60.0,\n",
       "   'sector': 'Total'}],\n",
       " 'emissions': [{'reporting_year': 2016,\n",
       "   'measurement_year': 2013,\n",
       "   'total_emissions': 5199.7,\n",
       "   'total_scope_1_emissions': None,\n",
       "   'total_scope_2_emissions': None,\n",
       "   'status': 'Decreased'}],\n",
       " 'gdps': [{'gdp': 84000000000.0,\n",
       "   'currency': 'GBP     Pound Sterling',\n",
       "   'gdp_year': 2014}],\n",
       " 'populations': [{'population_amount': 1101360, 'population_year': 2014}]}"
      ]
     },
     "execution_count": 189,
     "metadata": {},
     "output_type": "execute_result"
    }
   ],
   "source": [
    "cities_json[11]"
   ]
  },
  {
   "cell_type": "code",
   "execution_count": 190,
   "id": "e43d09c2-f5ad-4ead-a68b-25cff0460fde",
   "metadata": {},
   "outputs": [],
   "source": [
    "for city in cities_json:\n",
    "    del city[\"id\"]\n",
    "    city[\"_id\"] = str(f\"ObjectId('{bson.objectid.ObjectId()}')\")"
   ]
  },
  {
   "cell_type": "code",
   "execution_count": 191,
   "id": "5ffd9927-d655-4c66-a009-937a9262919a",
   "metadata": {},
   "outputs": [],
   "source": [
    "with open(\"cities.json\", \"w\") as outfile:\n",
    "    json.dump(cities_json, outfile)"
   ]
  },
  {
   "cell_type": "code",
   "execution_count": null,
   "id": "b5a0aea6-1dcb-4bba-80fa-a42f9c2b7554",
   "metadata": {},
   "outputs": [],
   "source": []
  }
 ],
 "metadata": {
  "kernelspec": {
   "display_name": "Python 3 (ipykernel)",
   "language": "python",
   "name": "python3"
  },
  "language_info": {
   "codemirror_mode": {
    "name": "ipython",
    "version": 3
   },
   "file_extension": ".py",
   "mimetype": "text/x-python",
   "name": "python",
   "nbconvert_exporter": "python",
   "pygments_lexer": "ipython3",
   "version": "3.9.13"
  }
 },
 "nbformat": 4,
 "nbformat_minor": 5
}
